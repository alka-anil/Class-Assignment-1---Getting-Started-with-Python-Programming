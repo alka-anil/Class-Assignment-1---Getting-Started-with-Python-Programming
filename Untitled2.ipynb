{
  "nbformat": 4,
  "nbformat_minor": 0,
  "metadata": {
    "colab": {
      "name": "Untitled2.ipynb",
      "provenance": [],
      "authorship_tag": "ABX9TyNTPtN55eZVW+YkqXeO8T52",
      "include_colab_link": true
    },
    "kernelspec": {
      "name": "python3",
      "display_name": "Python 3"
    }
  },
  "cells": [
    {
      "cell_type": "markdown",
      "metadata": {
        "id": "view-in-github",
        "colab_type": "text"
      },
      "source": [
        "<a href=\"https://colab.research.google.com/github/alka-anil/Class-Assignment-1---Getting-Started-with-Python-Programming/blob/master/Untitled2.ipynb\" target=\"_parent\"><img src=\"https://colab.research.google.com/assets/colab-badge.svg\" alt=\"Open In Colab\"/></a>"
      ]
    },
    {
      "cell_type": "code",
      "metadata": {
        "id": "_wsOLVA5-E-q",
        "colab_type": "code",
        "colab": {}
      },
      "source": [
        "Question 2"
      ],
      "execution_count": null,
      "outputs": []
    },
    {
      "cell_type": "code",
      "metadata": {
        "id": "yKC5lUwN-Msq",
        "colab_type": "code",
        "colab": {
          "base_uri": "https://localhost:8080/",
          "height": 68
        },
        "outputId": "c5c8ac45-a251-4f30-d77f-5cb17856a29c"
      },
      "source": [
        "Name=\"Alka Anil\"\n",
        "Address=\"Rugma, Pottammal,Calicut\"\n",
        "Tel=\"9605030772\"\n",
        "print(\"Name:\"+Name+\"\\n\"\"Address:\"+Address+\"\\n\"\"Telephone number:\"+Tel)"
      ],
      "execution_count": null,
      "outputs": [
        {
          "output_type": "stream",
          "text": [
            "Name:Alka Anil\n",
            "Address:Rugma, Pottammal,Calicut\n",
            "Telephone number:9605030772\n"
          ],
          "name": "stdout"
        }
      ]
    },
    {
      "cell_type": "markdown",
      "metadata": {
        "id": "R8wKCUgD_gcw",
        "colab_type": "text"
      },
      "source": [
        "Question 3"
      ]
    },
    {
      "cell_type": "code",
      "metadata": {
        "id": "LjK1jTmS_nkQ",
        "colab_type": "code",
        "colab": {
          "base_uri": "https://localhost:8080/",
          "height": 34
        },
        "outputId": "0fa2666d-5087-4844-ad8a-0cd7b47256ed"
      },
      "source": [
        "print(\"Your name is\", Name)\n",
        "Name=\"Alka Anil\""
      ],
      "execution_count": null,
      "outputs": [
        {
          "output_type": "stream",
          "text": [
            "Your name is Alka Anil\n"
          ],
          "name": "stdout"
        }
      ]
    },
    {
      "cell_type": "markdown",
      "metadata": {
        "id": "uZQY5Mpg_54k",
        "colab_type": "text"
      },
      "source": [
        "Question 4"
      ]
    },
    {
      "cell_type": "code",
      "metadata": {
        "id": "j8zmAEp4ACbo",
        "colab_type": "code",
        "colab": {
          "base_uri": "https://localhost:8080/",
          "height": 70
        },
        "outputId": "650b3712-ec12-4d67-d0d9-e63496b219cc"
      },
      "source": [
        "Length = float(input(\"Enter length of the rectangle:\"))\n",
        "Breadth = float(input(\"Enter breadth of the rectangle:\"))\n",
        "Area =Length * Breadth\n",
        "print(\"Area of rectangle is:\",Area)"
      ],
      "execution_count": null,
      "outputs": [
        {
          "output_type": "stream",
          "text": [
            "Enter length of the rectangle:10\n",
            "Enter breadth of the rectangle:5\n",
            "Area of rectangle is: 50.0\n"
          ],
          "name": "stdout"
        }
      ]
    },
    {
      "cell_type": "markdown",
      "metadata": {
        "id": "jMLGmV-tDHVp",
        "colab_type": "text"
      },
      "source": [
        "Question 5"
      ]
    },
    {
      "cell_type": "code",
      "metadata": {
        "id": "AoEhvgd_DJG7",
        "colab_type": "code",
        "colab": {
          "base_uri": "https://localhost:8080/",
          "height": 193
        },
        "outputId": "86071d34-cfdf-4316-f7ca-3a2bd8e9955a"
      },
      "source": [
        "Base=float(input(\"Enter the value of the base of the triangle:\"))\n",
        "Height=float(input(\"Enter the value of the height of the triangle:\"))\n",
        "Area= 0.5 * Base * Height\n",
        "print(\"Area of triangle is:\",Area)"
      ],
      "execution_count": null,
      "outputs": [
        {
          "output_type": "stream",
          "text": [
            "Enter the value of the base of the triangle:6\n",
            "Enter the value of the height of the triangle:5\n",
            "Area of triangle is: 15.0\n"
          ],
          "name": "stdout"
        }
      ]
    },
    {
      "cell_type": "markdown",
      "metadata": {
        "id": "GTzGblN7FBB-",
        "colab_type": "text"
      },
      "source": [
        "Question 6"
      ]
    },
    {
      "cell_type": "code",
      "metadata": {
        "id": "nBbf4eOVFCfP",
        "colab_type": "code",
        "colab": {
          "base_uri": "https://localhost:8080/",
          "height": 133
        },
        "outputId": "7e757824-e542-4d7e-f3bd-50bffebd9610"
      },
      "source": [
        "Radius=float(input(\"Enter the value of radius of the circle:\"))\n",
        "Area= 3.14 * Radius * Radius\n",
        "print(\"Area of circle is:\",Area)"
      ],
      "execution_count": null,
      "outputs": [
        {
          "output_type": "stream",
          "text": [
            "Enter the value of radius of the circle:5\n",
            "Area of circle is: 78.5\n"
          ],
          "name": "stdout"
        }
      ]
    },
    {
      "cell_type": "markdown",
      "metadata": {
        "id": "TmUR6BHvF9TM",
        "colab_type": "text"
      },
      "source": [
        "Question 7"
      ]
    },
    {
      "cell_type": "code",
      "metadata": {
        "id": "KAH_4eCwGB9Q",
        "colab_type": "code",
        "colab": {
          "base_uri": "https://localhost:8080/",
          "height": 85
        },
        "outputId": "807575ae-cefa-4436-c050-d6df0281dc2e"
      },
      "source": [
        "Name=input(\"Enter your name:\")\n",
        "Age=input(\"Enter your age:\")\n",
        "print(\"My name is \"+Name+\"\\n\"\"My age is \"+Age)"
      ],
      "execution_count": null,
      "outputs": [
        {
          "output_type": "stream",
          "text": [
            "Enter your name:Alka Anil\n",
            "Enter your age:18\n",
            "My name is Alka Anil\n",
            "My age is 18\n"
          ],
          "name": "stdout"
        }
      ]
    },
    {
      "cell_type": "markdown",
      "metadata": {
        "id": "SmSYDxKsHX83",
        "colab_type": "text"
      },
      "source": [
        "Question 8"
      ]
    },
    {
      "cell_type": "code",
      "metadata": {
        "id": "pH_q3jkFHZ7L",
        "colab_type": "code",
        "colab": {
          "base_uri": "https://localhost:8080/",
          "height": 53
        },
        "outputId": "7c154e35-7d9d-4bb3-a341-898a215adec3"
      },
      "source": [
        "Num=float(input(\"Enter a number:\"))\n",
        "n=Num+1\n",
        "print(\"number+1 =\",n)"
      ],
      "execution_count": null,
      "outputs": [
        {
          "output_type": "stream",
          "text": [
            "Enter a number:10\n",
            "number+1 = 11.0\n"
          ],
          "name": "stdout"
        }
      ]
    },
    {
      "cell_type": "markdown",
      "metadata": {
        "id": "LMo6XdlKIRSY",
        "colab_type": "text"
      },
      "source": [
        "Question 9"
      ]
    },
    {
      "cell_type": "code",
      "metadata": {
        "id": "mMVOW7TYISrd",
        "colab_type": "code",
        "colab": {
          "base_uri": "https://localhost:8080/",
          "height": 53
        },
        "outputId": "f6cf8284-97d1-4afe-ff6b-b487ac9a375f"
      },
      "source": [
        "Name=input (\"Enter your first name:\")\n",
        "print(\"Your first name is \"+Name)"
      ],
      "execution_count": null,
      "outputs": [
        {
          "output_type": "stream",
          "text": [
            "Enter your first name:Alka\n",
            "Your first name is Alka\n"
          ],
          "name": "stdout"
        }
      ]
    }
  ]
}